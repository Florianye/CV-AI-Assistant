{
 "cells": [
  {
   "cell_type": "code",
   "execution_count": 6,
   "metadata": {},
   "outputs": [],
   "source": [
    "from langchain_community.document_loaders import DirectoryLoader, PyPDFLoader\n",
    "from langchain.text_splitter import RecursiveCharacterTextSplitter\n",
    "import tiktoken"
   ]
  },
  {
   "cell_type": "code",
   "execution_count": 7,
   "metadata": {},
   "outputs": [],
   "source": [
    "loader = DirectoryLoader('./pdf/', glob=\"**/*.pdf\", loader_cls=PyPDFLoader)\n",
    "doc = loader.load()"
   ]
  },
  {
   "cell_type": "code",
   "execution_count": 16,
   "metadata": {},
   "outputs": [],
   "source": [
    "# Select the GPT model and initialize the tokenizer for that model.\n",
    "gpt_model = \"gpt-3.5-turbo-1106\"\n",
    "tokenizer_name = tiktoken.encoding_for_model(gpt_model)\n",
    "tokenizer = tiktoken.get_encoding(tokenizer_name.name)\n",
    "\n",
    "# Define a function to calculate the token length of a text.\n",
    "def tiktoken_len(text):\n",
    "    tokens = tokenizer.encode(text, disallowed_special=())\n",
    "    return len(tokens)\n",
    "\n",
    "# Split the loaded documents into smaller chunks.\n",
    "text_splitter = RecursiveCharacterTextSplitter(\n",
    "    chunk_size=250, chunk_overlap=10, length_function=tiktoken_len,\n",
    "    separators=[\"\\n\\n\", \"\\n\", \" \", \"\"]\n",
    ")\n",
    "\n",
    "data = text_splitter.split_documents(doc)"
   ]
  },
  {
   "cell_type": "code",
   "execution_count": 17,
   "metadata": {},
   "outputs": [
    {
     "data": {
      "text/plain": [
       "[Document(page_content='Florian  Ye \\n \\n \\nflorian -ye@hotmail.com  \\n2nd of November 1999  \\nEducation  \\nVienna Universit y of Economics and Business , Welthandelsplatz 1  09.2020  – expected 06.2023  \\nBachelor´s program  Business, Economics and Social Sciences  (Business Informatics ) \\n- Specializations  in „Data Science ” (Grade: A) and „Business Information Systems ” (Grade: A)  \\n- Grant of a merit scholarship in the academic year 2020/21  & 2021/22  \\n- WU Rectors´s List summer term 2022  \\n- Current grade point average at approximately 1.5 \\n- Thesis: Comparison of community detection algorithms using LFR benchmarking (Grade: A)  \\nCommercial Academy  Vienna Business School, Franklinstraße 24  09.2014 – 06.2019  \\n- Specialization  „Finance and risk management”  \\nSecondary School  GRG 21, Franklinstraße 21  09.2010 – 06.2014', metadata={'source': 'pdf/Lebenslauf_en.pdf', 'page': 0}),\n",
       " Document(page_content='Work Experience  \\nWorking student  at Siemens AG Austria  since 09.2022  \\n- Quality management and cybersecurity support, dashboard creation using Power BI,  \\nprocess automation  using Python , data analysis  \\nInternship  at Siemens AG Austria  08.2022  \\n- Creating dashboards, data analysis and visualization, updating presentations  \\nParamedic  at ASBÖ as part of civilian service  10.2019 – 06.2020  \\n- Patient transport ation driver , a paramedic in rescue and ambulance transport , \\nambulance services  at events  \\nWorking part -time in the family restaurant  12.2015 – 01.2018  \\n- Customer service as a waiter , planning and implementation of events , \\nanticipate guest needs, ascertain satisfaction  \\nInternship  at Bank Austria  08.2017  \\n- Support for the digitalization campaign, customer service in the foyer,  \\nmaintenance of self -service machines, administrative tasks  \\nCertification  \\nAnalyzing Data with Power BI – tecTrain GmbH  \\nBusiness Intelligence & Data Analyst (BIDA) – Corporate Finance Institute', metadata={'source': 'pdf/Lebenslauf_en.pdf', 'page': 0}),\n",
       " Document(page_content='- Topics: Data transformation & automation, Data visualization, Data modeling, Coding, Predictive analysis, Statistics \\n(10 of 17 courses completed)  \\nGoogle Data Analytics Professional Certificate  \\n- Hands -on experience with data cleaning, data visualization, interpretation and communication of data analysis results  \\n- Transforming complex data into actionable and clear insights  \\n- Solid understanding of programming languages and a solid understanding of databases.  \\nAdditional Skills  \\nSkills  \\n- Python, R, Microsoft Office (Excel, Word, Power BI , Power Query, PowerPoint, Access ), SQL, Tableau  \\n- Machine Learning, Data analysis, Data cleaning, Data visualization , Social network analysis  \\nLanguages  \\n- German (native speaker), Chinese (mother tongue, oral), English (fluent in speaking  and writing, B2 level)', metadata={'source': 'pdf/Lebenslauf_en.pdf', 'page': 0})]"
      ]
     },
     "execution_count": 17,
     "metadata": {},
     "output_type": "execute_result"
    }
   ],
   "source": [
    "data"
   ]
  },
  {
   "cell_type": "code",
   "execution_count": 24,
   "metadata": {},
   "outputs": [],
   "source": [
    "import glob\n",
    "\n",
    "# Define the pattern to match all .txt files in the \"txt\" folder\n",
    "pattern = './txt/*.txt'\n",
    "\n",
    "# Use glob to find all files matching the pattern\n",
    "txt_files = glob.glob(pattern)\n",
    "content = \"\"\n",
    "# Read and process each file\n",
    "for file_path in txt_files:\n",
    "    with open(file_path, 'r', encoding='utf-8') as file:\n",
    "        content += file.read()"
   ]
  },
  {
   "cell_type": "code",
   "execution_count": 25,
   "metadata": {},
   "outputs": [
    {
     "data": {
      "text/plain": [
       "'First name: Florian\\nSurname: Ye\\nEmail: florian-ye@hotmail.com\\nBirthdate: 02.11.1999\\n\\nEducation\\n- Between September 2010 and June 2014, I was in secondary school and successfully graduated from the GRG21 school at Franklinstraße 21, 1210 Vienna.\\n- Between September 2014 and June 2019, I attended and successfully graduated from the Vienna Business School at Franklinstraße 24, 1210 Vienna. I specialized in the field of finance and risk management. In addition to the compulsory subjects, I also completed my Matura in business informatics, which I passed with an excellent grade.\\n- I obtained my bachelor\\'s degree at the Vienna University of Economics and Business, at Welthandelsplatz 1. I studied Business Informatics and specialized in \"Data Science\" (grade: 1) and \"Business Information Systems\" (grade: 1). I studied between September 2020 and April 2023 and graduated with an average grade of 1.5. I received a merit scholarship in the academic year 2020/21 and 2021/22 and was on the WU Rector\\'s List in the summer term 2022.\\n- I am currently studying \"Data Science\" and am pursuing my master’s degree at Fachhochschule Technikum Wien, which I started in September 2023. According to the plan, I will receive my master’s degree in June 2025. (Further information about the master’s can be found here: https://www.technikum-wien.at/studiengaenge/master-data-science/) \\n\\nWork Experience\\n- In August 2017, I successfully completed an internship at Bank Austria. Among other things, my activities included: Support for the digitalization campaign, customer service in the foyer, maintenance of self-service machines, administrative tasks\\n- Between December 2015 and January 2018, I worked part-time as a waiter in the family restaurant.\\n- Between Oktober 2019 and June 2020 I worked as Paramedic at ASBÖ as part of civilian service. My main tasks included: Patient transportation driver, a paramedic in rescue and ambulance transport, ambulance services at events.\\n'"
      ]
     },
     "execution_count": 25,
     "metadata": {},
     "output_type": "execute_result"
    }
   ],
   "source": [
    "content"
   ]
  },
  {
   "cell_type": "code",
   "execution_count": 26,
   "metadata": {},
   "outputs": [
    {
     "ename": "AttributeError",
     "evalue": "'str' object has no attribute 'page_content'",
     "output_type": "error",
     "traceback": [
      "\u001b[0;31m---------------------------------------------------------------------------\u001b[0m",
      "\u001b[0;31mAttributeError\u001b[0m                            Traceback (most recent call last)",
      "Cell \u001b[0;32mIn[26], line 17\u001b[0m\n\u001b[1;32m     11\u001b[0m \u001b[38;5;66;03m# Split the loaded documents into smaller chunks.\u001b[39;00m\n\u001b[1;32m     12\u001b[0m text_splitter \u001b[38;5;241m=\u001b[39m RecursiveCharacterTextSplitter(\n\u001b[1;32m     13\u001b[0m     chunk_size\u001b[38;5;241m=\u001b[39m\u001b[38;5;241m250\u001b[39m, chunk_overlap\u001b[38;5;241m=\u001b[39m\u001b[38;5;241m10\u001b[39m, length_function\u001b[38;5;241m=\u001b[39mtiktoken_len,\n\u001b[1;32m     14\u001b[0m     separators\u001b[38;5;241m=\u001b[39m[\u001b[38;5;124m\"\u001b[39m\u001b[38;5;130;01m\\n\u001b[39;00m\u001b[38;5;130;01m\\n\u001b[39;00m\u001b[38;5;124m\"\u001b[39m, \u001b[38;5;124m\"\u001b[39m\u001b[38;5;130;01m\\n\u001b[39;00m\u001b[38;5;124m\"\u001b[39m, \u001b[38;5;124m\"\u001b[39m\u001b[38;5;124m \u001b[39m\u001b[38;5;124m\"\u001b[39m, \u001b[38;5;124m\"\u001b[39m\u001b[38;5;124m\"\u001b[39m]\n\u001b[1;32m     15\u001b[0m )\n\u001b[0;32m---> 17\u001b[0m data \u001b[38;5;241m=\u001b[39m \u001b[43mtext_splitter\u001b[49m\u001b[38;5;241;43m.\u001b[39;49m\u001b[43msplit_documents\u001b[49m\u001b[43m(\u001b[49m\u001b[43mcontent\u001b[49m\u001b[43m)\u001b[49m\n",
      "File \u001b[0;32m~/.local/lib/python3.10/site-packages/langchain/text_splitter.py:158\u001b[0m, in \u001b[0;36mTextSplitter.split_documents\u001b[0;34m(self, documents)\u001b[0m\n\u001b[1;32m    156\u001b[0m texts, metadatas \u001b[38;5;241m=\u001b[39m [], []\n\u001b[1;32m    157\u001b[0m \u001b[38;5;28;01mfor\u001b[39;00m doc \u001b[38;5;129;01min\u001b[39;00m documents:\n\u001b[0;32m--> 158\u001b[0m     texts\u001b[38;5;241m.\u001b[39mappend(\u001b[43mdoc\u001b[49m\u001b[38;5;241;43m.\u001b[39;49m\u001b[43mpage_content\u001b[49m)\n\u001b[1;32m    159\u001b[0m     metadatas\u001b[38;5;241m.\u001b[39mappend(doc\u001b[38;5;241m.\u001b[39mmetadata)\n\u001b[1;32m    160\u001b[0m \u001b[38;5;28;01mreturn\u001b[39;00m \u001b[38;5;28mself\u001b[39m\u001b[38;5;241m.\u001b[39mcreate_documents(texts, metadatas\u001b[38;5;241m=\u001b[39mmetadatas)\n",
      "\u001b[0;31mAttributeError\u001b[0m: 'str' object has no attribute 'page_content'"
     ]
    }
   ],
   "source": [
    "# Select the GPT model and initialize the tokenizer for that model.\n",
    "gpt_model = \"gpt-3.5-turbo-1106\"\n",
    "tokenizer_name = tiktoken.encoding_for_model(gpt_model)\n",
    "tokenizer = tiktoken.get_encoding(tokenizer_name.name)\n",
    "\n",
    "# Define a function to calculate the token length of a text.\n",
    "def tiktoken_len(text):\n",
    "    tokens = tokenizer.encode(text, disallowed_special=())\n",
    "    return len(tokens)\n",
    "\n",
    "# Split the loaded documents into smaller chunks.\n",
    "text_splitter = RecursiveCharacterTextSplitter(\n",
    "    chunk_size=250, chunk_overlap=10, length_function=tiktoken_len,\n",
    "    separators=[\"\\n\\n\", \"\\n\", \" \", \"\"]\n",
    ")\n",
    "\n",
    "data = text_splitter.split_documents(content)"
   ]
  },
  {
   "cell_type": "code",
   "execution_count": 33,
   "metadata": {},
   "outputs": [
    {
     "data": {
      "text/plain": [
       "[Document(page_content='First name: Florian\\nSurname: Ye\\nEmail: florian-ye@hotmail.com\\nBirthdate: 02.11.1999\\n\\nEducation\\n- Between September 2010 and June 2014, I was in secondary school and successfully graduated from the GRG21 school at Franklinstraße 21, 1210 Vienna.\\n- Between September 2014 and June 2019, I attended and successfully graduated from the Vienna Business School at Franklinstraße 24, 1210 Vienna. I specialized in the field of finance and risk management. In addition to the compulsory subjects, I also completed my Matura in business informatics, which I passed with an excellent grade.\\n- I obtained my bachelor\\'s degree at the Vienna University of Economics and Business, at Welthandelsplatz 1. I studied Business Informatics and specialized in \"Data Science\" (grade: 1) and \"Business Information Systems\" (grade: 1). I studied between September 2020 and April 2023 and graduated with an average grade of 1.5. I received a merit scholarship in the academic year 2020/21 and 2021/22 and was on the WU Rector\\'s List in the summer term 2022.\\n- I am currently studying \"Data Science\" and am pursuing my master’s degree at Fachhochschule Technikum Wien, which I started in September 2023. According to the plan, I will receive my master’s degree in June 2025. (Further information about the master’s can be found here: https://www.technikum-wien.at/studiengaenge/master-data-science/) \\n\\nWork Experience\\n- In August 2017, I successfully completed an internship at Bank Austria. Among other things, my activities included: Support for the digitalization campaign, customer service in the foyer, maintenance of self-service machines, administrative tasks\\n- Between December 2015 and January 2018, I worked part-time as a waiter in the family restaurant.\\n- Between Oktober 2019 and June 2020 I worked as Paramedic at ASBÖ as part of civilian service. My main tasks included: Patient transportation driver, a paramedic in rescue and ambulance transport, ambulance services at events.\\n', metadata={'source': 'txt/resume.txt'})]"
      ]
     },
     "execution_count": 33,
     "metadata": {},
     "output_type": "execute_result"
    }
   ],
   "source": [
    "from langchain_community.document_loaders import TextLoader\n",
    "\n",
    "loader = DirectoryLoader('./txt/', glob=\"**/*.txt\", loader_cls=TextLoader)\n",
    "loader.load()"
   ]
  },
  {
   "cell_type": "code",
   "execution_count": null,
   "metadata": {},
   "outputs": [],
   "source": []
  }
 ],
 "metadata": {
  "kernelspec": {
   "display_name": "Python 3",
   "language": "python",
   "name": "python3"
  },
  "language_info": {
   "codemirror_mode": {
    "name": "ipython",
    "version": 3
   },
   "file_extension": ".py",
   "mimetype": "text/x-python",
   "name": "python",
   "nbconvert_exporter": "python",
   "pygments_lexer": "ipython3",
   "version": "3.10.13"
  }
 },
 "nbformat": 4,
 "nbformat_minor": 2
}
